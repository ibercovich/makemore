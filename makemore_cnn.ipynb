{
 "cells": [
  {
   "cell_type": "code",
   "execution_count": 6,
   "metadata": {},
   "outputs": [],
   "source": [
    "import random\n",
    "import time\n",
    "import torch\n",
    "from torch.nn import functional as F\n",
    "import matplotlib.pyplot as plt\n",
    "%matplotlib inline\n",
    "\n",
    "seed=42"
   ]
  },
  {
   "cell_type": "code",
   "execution_count": 2,
   "metadata": {},
   "outputs": [],
   "source": [
    "words = open('names.csv', 'r').read().splitlines()\n",
    "words = [s.lower() for s in words] \n",
    "\n",
    "#build vocabulary\n",
    "special_token = '.'\n",
    "def vocabulary(words):\n",
    "    chars = sorted(list(set(''.join(words))))\n",
    "    stoi = {s:i+1 for i,s in enumerate(chars)}\n",
    "    stoi[special_token] = 0\n",
    "    itos = {i:s for s,i in stoi.items()}\n",
    "    return stoi, itos, len(itos)\n",
    "\n",
    "stoi, itos, vocab_size = vocabulary(words)\n",
    "special_idx = stoi[special_token]"
   ]
  },
  {
   "cell_type": "code",
   "execution_count": 3,
   "metadata": {},
   "outputs": [
    {
     "data": {
      "text/plain": [
       "(101338, 2, 15)"
      ]
     },
     "execution_count": 3,
     "metadata": {},
     "output_type": "execute_result"
    }
   ],
   "source": [
    "len(words), min(len(w) for w in words), max(len(w) for w in words)"
   ]
  },
  {
   "cell_type": "code",
   "execution_count": 5,
   "metadata": {},
   "outputs": [
    {
     "name": "stdout",
     "output_type": "stream",
     "text": [
      "{1: 'a', 2: 'b', 3: 'c', 4: 'd', 5: 'e', 6: 'f', 7: 'g', 8: 'h', 9: 'i', 10: 'j', 11: 'k', 12: 'l', 13: 'm', 14: 'n', 15: 'o', 16: 'p', 17: 'q', 18: 'r', 19: 's', 20: 't', 21: 'u', 22: 'v', 23: 'w', 24: 'x', 25: 'y', 26: 'z', 0: '.'}\n"
     ]
    }
   ],
   "source": [
    "print(itos) #confirm dictionary makes sense"
   ]
  },
  {
   "cell_type": "code",
   "execution_count": 7,
   "metadata": {},
   "outputs": [
    {
     "name": "stdout",
     "output_type": "stream",
     "text": [
      "X.shape=torch.Size([610286, 8]), Y.shape=torch.Size([610286])\n",
      "X.shape=torch.Size([76476, 8]), Y.shape=torch.Size([76476])\n",
      "X.shape=torch.Size([76060, 8]), Y.shape=torch.Size([76060])\n"
     ]
    }
   ],
   "source": [
    "random.seed(seed)\n",
    "random.shuffle(words)\n",
    "\n",
    "# build dataset\n",
    "block_size = 8 #how many chars to use in our prediction\n",
    "\n",
    "def build_dataset(words):\n",
    "    X, Y = [], [] #inputs and labels\n",
    "\n",
    "    for w in words:\n",
    "        context = [special_idx] * block_size #context starts as \". . .\"\n",
    "        for ch in w + special_token:\n",
    "            ix = stoi[ch] # retrieve index for char from vocab\n",
    "            X.append(context) #add current example, starting with \". . .\"\n",
    "            Y.append(ix) #the label is the next char (or first, or . for last)\n",
    "            context = context[1:] + [ix] #cropping first char as window slides and another char is added\n",
    "\n",
    "    X = torch.tensor(X)\n",
    "    Y = torch.tensor(Y)\n",
    "    print(f'{X.shape=}, {Y.shape=}')\n",
    "    \n",
    "    return X, Y\n",
    "\n",
    "train=0.8\n",
    "dev=0.1\n",
    "assert train + dev <= 1\n",
    "\n",
    "n1 = int(train*len(words))\n",
    "n2 = int((train+dev)*len(words))\n",
    "\n",
    "Xtr, Ytr = build_dataset(words[:n1]) # 80%\n",
    "Xdev, Ydev = build_dataset(words[n1:n2]) # 10%\n",
    "Xte, Yte = build_dataset(words[n2:]) # 10%"
   ]
  },
  {
   "cell_type": "code",
   "execution_count": 8,
   "metadata": {},
   "outputs": [
    {
     "name": "stdout",
     "output_type": "stream",
     "text": [
      "........ ==> s\n",
      ".......s ==> a\n",
      "......sa ==> m\n",
      ".....sam ==> e\n",
      "....same ==> r\n",
      "...samer ==> r\n",
      "..samerr ==> a\n",
      ".samerra ==> .\n",
      "........ ==> c\n",
      ".......c ==> a\n",
      "......ca ==> l\n",
      ".....cal ==> d\n",
      "....cald ==> o\n",
      "...caldo ==> n\n",
      "..caldon ==> i\n",
      ".caldoni ==> a\n",
      "caldonia ==> .\n",
      "........ ==> m\n",
      ".......m ==> u\n",
      "......mu ==> d\n"
     ]
    }
   ],
   "source": [
    "#what doe these look like?\n",
    "for x,y in zip(Xtr[:20], Ytr[:20]):\n",
    "    print(''.join(itos[ix.item()] for ix in x), '==>', itos[y.item()])"
   ]
  },
  {
   "cell_type": "code",
   "execution_count": 24,
   "metadata": {},
   "outputs": [],
   "source": [
    "class Linear:\n",
    "    def __init__(self, fan_in, fan_out, bias=True):\n",
    "        self.weight = torch.randn((fan_in, fan_out)) / fan_in**0.5 # karmin initialization\n",
    "        self.bias = torch.randn(fan_out) if bias else None\n",
    "\n",
    "    def __call__(self, x):\n",
    "        self.out = x @ self.weight\n",
    "        if self.bias is not None:\n",
    "            self.out += self.bias\n",
    "        return self.out\n",
    "    \n",
    "    def parameters(self):\n",
    "        return [self.weight] + ([] if self.bias is None else [self.bias])\n",
    "    \n",
    "class BatchNorm1d:\n",
    "    def __init__(self, dim, eps=1e-5, momentum=0.1):\n",
    "        self.eps=eps\n",
    "        self.momentum=momentum\n",
    "        self.training = True\n",
    "        # trained parameters\n",
    "        self.gamma = torch.ones(dim) #controls amplitude of each dimenstion x*1, 1 is neutral\n",
    "        self.beta = torch.zeros(dim) #adds a bias x+0, 0 is neutral\n",
    "        # buffers, \"trained\" with momentum update, not really a param\n",
    "        self.running_var = torch.ones(dim)\n",
    "        self.running_mean = torch.zeros(dim)\n",
    "\n",
    "    def __call__(self, x):\n",
    "        #basically forward pass\n",
    "        if self.training:\n",
    "            if x.ndim == 2: dim = 0\n",
    "            elif x.ndim == 3: dim = (0,1)\n",
    "            xmean = x.mean(dim, keepdim=True) #batch mean\n",
    "            xvar = x.var(dim, keepdim=True)\n",
    "        else:\n",
    "            xmean, xvar = self.running_mean, self.running_var\n",
    "        \n",
    "        xhat = (x - xmean) / torch.sqrt(xvar + self.eps)\n",
    "        self.out = self.gamma * xhat + self.beta\n",
    "\n",
    "        #update buffers\n",
    "        if self.training:\n",
    "            with torch.no_grad():\n",
    "                self.running_mean = (1-self.momentum)*self.running_mean + self.momentum*xmean\n",
    "                self.running_var = (1-self.momentum)*self.running_var + self.momentum*xvar\n",
    "        \n",
    "        return self.out\n",
    "    \n",
    "    def parameters(self):\n",
    "        return[self.gamma, self.beta]\n",
    "    \n",
    "class Tanh:\n",
    "    def __call__(self, x):\n",
    "        self.out = torch.tanh(x)\n",
    "        return self.out\n",
    "    def parameters(self):\n",
    "        return []\n",
    "\n",
    "class Embedding:\n",
    "    def __init__(self, num_embeddings, embedding_dim):\n",
    "        self.weight = torch.randn((num_embeddings, embedding_dim))\n",
    "\n",
    "    def __call__(self, IX):\n",
    "        self.out = self.weight[IX]\n",
    "        return self.out\n",
    "    \n",
    "    def parameters(self):\n",
    "        return [self.weight]\n",
    "    \n",
    "class FlattenConsecutive:\n",
    "    def __init__(self, n):\n",
    "        self.n = n\n",
    "\n",
    "    def __call__(self, x):\n",
    "        B,T,C = x.shape #batch_size, block_size (tokens), embedding_size\n",
    "        #keep batch the same, flatten embeddings side by side by window size\n",
    "        x = x.view(B, T//self.n, C*self.n) \n",
    "        if x.shape[1] == 1: x = x.squeeze(1)\n",
    "        self.out = x\n",
    "        return self.out\n",
    "    \n",
    "    def parameters(self):\n",
    "        return []\n",
    "    \n",
    "class Sequential:\n",
    "    def __init__(self, layers):\n",
    "        self.layers = layers\n",
    "        for p in self.parameters():\n",
    "            p.requires_grad = True\n",
    "        print(f'model created with { sum(p.nelement() for p in self.parameters())} parameters')\n",
    "\n",
    "    def __call__(self, x):\n",
    "        for layer in self.layers:\n",
    "            x = layer(x)\n",
    "        self.out = x\n",
    "        return self.out\n",
    "    \n",
    "    def parameters(self):\n",
    "        #get parameters for all layers inside and flatten into one list\n",
    "        return [p for layer in self.layers for p in layer.parameters()]\n"
   ]
  },
  {
   "cell_type": "code",
   "execution_count": 25,
   "metadata": {},
   "outputs": [
    {
     "name": "stdout",
     "output_type": "stream",
     "text": [
      "model created with 76579 parameters\n"
     ]
    }
   ],
   "source": [
    "torch.manual_seed(seed)\n",
    "\n",
    "#hierarchical network\n",
    "n_embd = 24 #dimensionality of character embeddings\n",
    "n_hidden = 128 #if think this works best if it's a multiple of cnn_size\n",
    "flatten = 2\n",
    "model = Sequential([\n",
    "    Embedding(vocab_size, n_embd),\n",
    "    FlattenConsecutive(flatten), Linear(n_embd*flatten, n_hidden, bias=False), BatchNorm1d(n_hidden), Tanh(),\n",
    "    FlattenConsecutive(flatten), Linear(n_hidden*flatten, n_hidden, bias=False), BatchNorm1d(n_hidden), Tanh(),\n",
    "    FlattenConsecutive(flatten), Linear(n_hidden*flatten, n_hidden, bias=False), BatchNorm1d(n_hidden), Tanh(),\n",
    "    Linear(n_hidden, vocab_size),\n",
    "])\n",
    "\n",
    "#parameter init\n",
    "with torch.no_grad():\n",
    "    model.layers[-1].weight *= 0.1"
   ]
  },
  {
   "cell_type": "code",
   "execution_count": 26,
   "metadata": {},
   "outputs": [
    {
     "name": "stdout",
     "output_type": "stream",
     "text": [
      "      0/ 200000: 3.8348\n",
      "  10000/ 200000: 2.0654\n",
      "  20000/ 200000: 2.6878\n",
      "  30000/ 200000: 2.2260\n",
      "  40000/ 200000: 2.3431\n",
      "  50000/ 200000: 2.5247\n",
      "  60000/ 200000: 2.3540\n",
      "  70000/ 200000: 1.6319\n",
      "  80000/ 200000: 2.1782\n",
      "  90000/ 200000: 1.8362\n",
      " 100000/ 200000: 1.7809\n",
      " 110000/ 200000: 1.9375\n",
      " 120000/ 200000: 1.9400\n",
      " 130000/ 200000: 1.9142\n",
      " 140000/ 200000: 1.7733\n",
      " 150000/ 200000: 1.9389\n",
      " 160000/ 200000: 1.7546\n",
      " 170000/ 200000: 2.1653\n",
      " 180000/ 200000: 1.9617\n",
      " 190000/ 200000: 1.6727\n"
     ]
    }
   ],
   "source": [
    "max_steps = 200_000\n",
    "batch_size = 32\n",
    "lossi = []\n",
    "parameters = model.parameters() #cache parameters\n",
    "\n",
    "for i in range(max_steps):\n",
    "    ix = torch.randint(0, Xtr.shape[0], (batch_size,))\n",
    "    Xb, Yb = Xtr[ix], Ytr[ix]\n",
    "\n",
    "    #forward pass\n",
    "    logits = model(Xb)\n",
    "    loss = F.cross_entropy(logits, Yb)\n",
    "\n",
    "    #backward pass\n",
    "    for p in parameters:\n",
    "        p.grad = None\n",
    "    loss.backward()\n",
    "\n",
    "    #update weights\n",
    "    lr = 0.1 if i < max_steps * 2/3 else 0.01\n",
    "    for p in parameters:\n",
    "        p.data += -lr*p.grad\n",
    "\n",
    "    #stats\n",
    "    if i % (max_steps/20) == 0:\n",
    "        print(f'{i:7d}/{max_steps:7d}: {loss.item():.4f}')\n",
    "\n",
    "    lossi.append(loss.log10().item())"
   ]
  },
  {
   "cell_type": "code",
   "execution_count": 27,
   "metadata": {},
   "outputs": [
    {
     "data": {
      "text/plain": [
       "[<matplotlib.lines.Line2D at 0x7f5bc612afb0>]"
      ]
     },
     "execution_count": 27,
     "metadata": {},
     "output_type": "execute_result"
    },
    {
     "data": {
      "image/png": "[encoded data removed]",
      "text/plain": [
       "<Figure size 640x480 with 1 Axes>"
      ]
     },
     "metadata": {},
     "output_type": "display_data"
    }
   ],
   "source": [
    "plt.plot(torch.tensor(lossi).view(-1, 1000).mean(1))"
   ]
  },
  {
   "cell_type": "code",
   "execution_count": 28,
   "metadata": {},
   "outputs": [],
   "source": [
    "# put layers into eval mode (needed for batchnorm especially)\n",
    "for layer in model.layers:\n",
    "  layer.training = False"
   ]
  },
  {
   "cell_type": "code",
   "execution_count": 31,
   "metadata": {},
   "outputs": [
    {
     "name": "stdout",
     "output_type": "stream",
     "text": [
      "train 1.9592472314834595\n",
      "val 2.011403799057007\n"
     ]
    }
   ],
   "source": [
    "#test loss on dev set\n",
    "@torch.no_grad()\n",
    "def split_loss(split):\n",
    "    x,y = {\n",
    "        'train': (Xtr, Ytr),\n",
    "        'val': (Xdev, Ydev),\n",
    "        'test': (Xte, Yte),\n",
    "    }[split]\n",
    "    logits = model(x)\n",
    "    loss = F.cross_entropy(logits, y)\n",
    "    print(split, loss.item())\n",
    "\n",
    "split_loss('train')\n",
    "split_loss('val')"
   ]
  },
  {
   "cell_type": "code",
   "execution_count": 32,
   "metadata": {},
   "outputs": [
    {
     "name": "stdout",
     "output_type": "stream",
     "text": [
      "isaia.\n",
      "lathaleesa.\n",
      "reness.\n",
      "merion.\n",
      "mahlise.\n",
      "nyhunra.\n",
      "jannis.\n",
      "jroswa.\n",
      "sanriea.\n",
      "andil.\n",
      "kendray.\n",
      "lareea.\n",
      "tyressa.\n",
      "marves.\n",
      "jollyn.\n",
      "kamiria.\n",
      "taxan.\n",
      "eliane.\n",
      "lilien.\n",
      "kistia.\n"
     ]
    }
   ],
   "source": [
    "for _ in range(20):\n",
    "    out = []\n",
    "    context = [0] * block_size\n",
    "    while True:\n",
    "        #forward\n",
    "        logits = model(torch.tensor([context]))\n",
    "        probs = F.softmax(logits, dim=1) #softmax over 1st dim, which is chars\n",
    "        ix = torch.multinomial(probs, num_samples=1, replacement=True).item() # sammple\n",
    "        context = context[1:] + [ix]\n",
    "        out.append(ix)\n",
    "        if ix == 0:\n",
    "            break\n",
    "    print(''.join(itos[i] for i in out))\n"
   ]
  },
  {
   "cell_type": "code",
   "execution_count": null,
   "metadata": {},
   "outputs": [],
   "source": []
  }
 ],
 "metadata": {
  "kernelspec": {
   "display_name": "d2l",
   "language": "python",
   "name": "python3"
  },
  "language_info": {
   "codemirror_mode": {
    "name": "ipython",
    "version": 3
   },
   "file_extension": ".py",
   "mimetype": "text/x-python",
   "name": "python",
   "nbconvert_exporter": "python",
   "pygments_lexer": "ipython3",
   "version": "3.10.9"
  },
  "orig_nbformat": 4
 },
 "nbformat": 4,
 "nbformat_minor": 2
}
