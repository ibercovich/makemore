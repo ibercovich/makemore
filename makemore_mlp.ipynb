{
 "cells": [
  {
   "cell_type": "code",
   "execution_count": 1,
   "metadata": {},
   "outputs": [],
   "source": [
    "# makemore built by training an multi-layer perceptron MLP"
   ]
  },
  {
   "cell_type": "code",
   "execution_count": 2,
   "metadata": {},
   "outputs": [],
   "source": [
    "import random\n",
    "special_token = '.'\n",
    "words = open('names.csv', 'r').read().splitlines()\n",
    "words = [s.lower() for s in words] \n",
    "seed = 2147483647\n",
    "random.seed(seed)"
   ]
  },
  {
   "cell_type": "code",
   "execution_count": 3,
   "metadata": {},
   "outputs": [
    {
     "data": {
      "text/plain": [
       "['aaban',\n",
       " 'aabha',\n",
       " 'aabid',\n",
       " 'aabidah',\n",
       " 'aabir',\n",
       " 'aabriella',\n",
       " 'aada',\n",
       " 'aadam',\n",
       " 'aadan',\n",
       " 'aadarsh']"
      ]
     },
     "execution_count": 3,
     "metadata": {},
     "output_type": "execute_result"
    }
   ],
   "source": [
    "words[:10]"
   ]
  },
  {
   "cell_type": "code",
   "execution_count": 4,
   "metadata": {},
   "outputs": [
    {
     "data": {
      "text/plain": [
       "(101338, 2, 15)"
      ]
     },
     "execution_count": 4,
     "metadata": {},
     "output_type": "execute_result"
    }
   ],
   "source": [
    "# learning some statistical properties about the dataset\n",
    "len(words), min(len(w) for w in words), max(len(w) for w in words)"
   ]
  },
  {
   "cell_type": "code",
   "execution_count": 5,
   "metadata": {},
   "outputs": [],
   "source": [
    "#build vocabulary\n",
    "def vocabulary(words):\n",
    "    chars = sorted(list(set(''.join(words))))\n",
    "    stoi = {s:i+1 for i,s in enumerate(chars)}\n",
    "    stoi['.'] = 0\n",
    "    itos = {i:s for s,i in stoi.items()}\n",
    "    return stoi, itos, len(stoi)\n",
    "\n",
    "stoi, itos, vocab_size = vocabulary(words)\n",
    "special_idx = stoi['.']"
   ]
  },
  {
   "cell_type": "code",
   "execution_count": 6,
   "metadata": {},
   "outputs": [],
   "source": [
    "# build dataset\n",
    "import torch\n",
    "import torch.nn.functional as F\n",
    "torch.cuda.empty_cache()\n",
    "device = torch.device(\"cpu\") # \"cuda:0\" if torch.cuda.is_available() else \"cpu\"\n",
    "g = torch.Generator(device=device).manual_seed(seed)\n",
    "torch.set_default_tensor_type(torch.FloatTensor) # torch.cuda.FloatTensor\n",
    "\n",
    "block_size = 3 #how many chars to use in our prediction\n",
    "\n",
    "def build_dataset(words):\n",
    "    X, Y = [], [] #inputs and labels\n",
    "\n",
    "    for w in words:\n",
    "        context = [special_idx] * block_size #context starts as \". . .\"\n",
    "        for ch in w + special_token:\n",
    "            ix = stoi[ch] # retrieve index for char from vocab\n",
    "            X.append(context) #add current example, starting with \". . .\"\n",
    "            Y.append(ix) #the label is the next char (or first, or . for last)\n",
    "            context = context[1:] + [ix] #cropping first char as window slides and another char is added\n",
    "\n",
    "    X = torch.tensor(X)\n",
    "    Y = torch.tensor(Y)\n",
    "    print(f'{X.shape=}, {Y.shape=}')\n",
    "    \n",
    "    return X, Y"
   ]
  },
  {
   "cell_type": "code",
   "execution_count": 7,
   "metadata": {},
   "outputs": [
    {
     "name": "stdout",
     "output_type": "stream",
     "text": [
      "X.shape=torch.Size([609946, 3]), Y.shape=torch.Size([609946])\n",
      "X.shape=torch.Size([76390, 3]), Y.shape=torch.Size([76390])\n",
      "X.shape=torch.Size([76486, 3]), Y.shape=torch.Size([76486])\n"
     ]
    }
   ],
   "source": [
    "train=0.8\n",
    "dev=0.1\n",
    "\n",
    "random.seed(seed)\n",
    "random.shuffle(words)\n",
    "\n",
    "n1 = int(train*len(words))\n",
    "n2 = int((train+dev)*len(words))\n",
    "\n",
    "Xtr, Ytr = build_dataset(words[:n1]) # 80%\n",
    "Xdev, Ydev = build_dataset(words[n1:n2]) # 10%\n",
    "Xte, Yte = build_dataset(words[n2:]) # 10%\n"
   ]
  },
  {
   "cell_type": "code",
   "execution_count": 8,
   "metadata": {},
   "outputs": [],
   "source": [
    "# this is the model\n",
    "class MLP():\n",
    "\n",
    "    def __init__(self, vocab, block_size):\n",
    "        embd_dim = 10\n",
    "        hidden_dim = 200\n",
    "        self.block_size = block_size\n",
    "        vocab_size = len(vocab)\n",
    "        self.C = torch.randn((vocab_size, embd_dim), generator=g) #the matrix that takes chars and outputs embeddings\n",
    "    \n",
    "        # first layer of a MLP\n",
    "        self.W1 = torch.randn(( block_size*embd_dim, hidden_dim), generator=g) #proportional to block_size so emb.view() matches\n",
    "        self.b1 = torch.randn(hidden_dim, generator=g)\n",
    "        #second layer\n",
    "        self.W2 = torch.randn((hidden_dim, vocab_size), generator=g) #ultimately we need to predict one of 27 chars\n",
    "        self.b2 = torch.randn(vocab_size, generator=g)\n",
    "\n",
    "        # aggregate parameters and turn on gradient for all\n",
    "        self.parameters = [self.C, self.W1, self.b1, self.W2, self.b2]\n",
    "        for p in self.parameters: p.requires_grad = True\n",
    "        print( f'MLP instantiated with {sum(p.nelement() for p in self.parameters)} parameters')\n",
    "\n",
    "    # forward pass\n",
    "    def forward(self, X, Y):\n",
    "        self.emb = self.C[X] # embedings of input (eg batch_size=32, block_size=3, emb_depth=10)\n",
    "        # non linearity\n",
    "        self.h = torch.tanh( self.emb.view(-1, self.W1.shape[0]) @ self.W1 + self.b1 )\n",
    "        self.logits = self.h @ self.W2 + self.b2\n",
    "\n",
    "        #softmax\n",
    "        # counts = logits.exp()\n",
    "        # prob = counts / counts.sum(1, keepdims=True)\n",
    "\n",
    "        #loss => log likelihood\n",
    "        #get the probability for each value of Y, then take -log and average\n",
    "        #arange is just a trick to pluck the relevant prob of char Y for each example\n",
    "        # loss = -prob[torch.arange(Y.shape[0]), Y].log().mean()\n",
    "        \n",
    "        # all of the above can be replaced with cross_entropy loss\n",
    "        self.loss = F.cross_entropy(self.logits, Y)\n",
    "        return self.loss\n",
    "\n",
    "    def backward(self, lr=0.1):\n",
    "        #clear old gradients\n",
    "        for p in self.parameters:\n",
    "            p.grad = None\n",
    "\n",
    "        self.loss.backward()\n",
    "\n",
    "        #update params\n",
    "        for p in self.parameters:\n",
    "            p.data += -lr * p.grad\n",
    "\n",
    "    @torch.no_grad() # this decorator disables gradient tracking\n",
    "    def generate(self, q=20):\n",
    "        emb = None\n",
    "        for _ in range(q):\n",
    "            out = []\n",
    "            context = [special_idx] * self.block_size # initialize as ...\n",
    "            while True:\n",
    "                emb = self.C[torch.tensor([context])] #(1 example, block_size chars, emb_depth))\n",
    "                h = torch.tanh(emb.view(1, -1) @ self.W1 + self.b1)\n",
    "                logits = h @ self.W2 + self.b2\n",
    "                probs = F.softmax(logits, dim=1)\n",
    "                ix = torch.multinomial(probs, num_samples=1, replacement=True, generator=g).item()\n",
    "                context = context[1:] + [ix] #keep shifting context (the input)\n",
    "                out.append(ix)\n",
    "                if ix == 0:\n",
    "                    break\n",
    "            print(''.join(itos[i] for i in out))\n",
    "\n",
    "\n"
   ]
  },
  {
   "cell_type": "code",
   "execution_count": 9,
   "metadata": {},
   "outputs": [
    {
     "name": "stdout",
     "output_type": "stream",
     "text": [
      "MLP instantiated with 11897 parameters\n"
     ]
    }
   ],
   "source": [
    "model = MLP(stoi, block_size) \n",
    "\n",
    "#stats\n",
    "lri = []\n",
    "lossi = []\n",
    "stepi = []\n"
   ]
  },
  {
   "cell_type": "code",
   "execution_count": 10,
   "metadata": {},
   "outputs": [
    {
     "name": "stdout",
     "output_type": "stream",
     "text": [
      "loss=tensor(26.3969, grad_fn=<NllLossBackward0>)\n",
      "loss=tensor(2.2927, grad_fn=<NllLossBackward0>)\n",
      "loss=tensor(2.1672, grad_fn=<NllLossBackward0>)\n",
      "loss=tensor(2.1798, grad_fn=<NllLossBackward0>)\n",
      "loss=tensor(2.1791, grad_fn=<NllLossBackward0>)\n",
      "loss=tensor(2.1240, grad_fn=<NllLossBackward0>)\n",
      "loss=tensor(2.1994, grad_fn=<NllLossBackward0>)\n",
      "loss=tensor(2.1273, grad_fn=<NllLossBackward0>)\n",
      "loss=tensor(2.1874, grad_fn=<NllLossBackward0>)\n",
      "loss=tensor(2.1075, grad_fn=<NllLossBackward0>)\n",
      "Total time: 132.44 seconds\n"
     ]
    }
   ],
   "source": [
    "# this is the trainer\n",
    "import time\n",
    "start_time = time.time()\n",
    "passes = 200_000\n",
    "batch_size = 512 #batches smaller than 1024 are faster on my CPU than GPU\n",
    "lre = torch.linspace(0, -4, passes) #decaying learning rate\n",
    "lrs = 10**lre\n",
    "\n",
    "\n",
    "for i in range(passes):\n",
    "    #minibatch construct\n",
    "    ix = torch.randint(0, Xtr.shape[0], (batch_size,)) #batch_size random integers within Xtr[0] range, 1 dim tensor\n",
    "\n",
    "    #forward pass\n",
    "    loss = model.forward(Xtr[ix], Ytr[ix])\n",
    "    if i%(passes/10)==0:\n",
    "        print(f'{loss=}')\n",
    "\n",
    "    #backward pass\n",
    "    model.backward(lrs[i])\n",
    "\n",
    "    #statsg = torch.Generator().manual_seed(seed)\n",
    "    stepi.append(i)\n",
    "    lossi.append(loss.log10().item())\n",
    "\n",
    "elapsed_time = time.time() - start_time\n",
    "print(\"Total time: {:.2f} seconds\".format(elapsed_time))"
   ]
  },
  {
   "cell_type": "code",
   "execution_count": 11,
   "metadata": {},
   "outputs": [
    {
     "data": {
      "text/plain": [
       "[<matplotlib.lines.Line2D at 0x7f3d9076b220>]"
      ]
     },
     "execution_count": 11,
     "metadata": {},
     "output_type": "execute_result"
    },
    {
     "data": {
      "image/png": "[encoded data removed]",
      "text/plain": [
       "<Figure size 640x480 with 1 Axes>"
      ]
     },
     "metadata": {},
     "output_type": "display_data"
    }
   ],
   "source": [
    "import matplotlib.pyplot as plt\n",
    "%matplotlib inline\n",
    "plt.plot(stepi, lossi)"
   ]
  },
  {
   "cell_type": "code",
   "execution_count": 12,
   "metadata": {},
   "outputs": [
    {
     "data": {
      "text/plain": [
       "tensor(2.1642, grad_fn=<NllLossBackward0>)"
      ]
     },
     "execution_count": 12,
     "metadata": {},
     "output_type": "execute_result"
    }
   ],
   "source": [
    "# check loss with dev dataset\n",
    "model.forward(Xdev, Ydev)"
   ]
  },
  {
   "cell_type": "code",
   "execution_count": 13,
   "metadata": {},
   "outputs": [
    {
     "data": {
      "image/png": "[encoded data removed]",
      "text/plain": [
       "<Figure size 800x800 with 1 Axes>"
      ]
     },
     "metadata": {},
     "output_type": "display_data"
    }
   ],
   "source": [
    "# visualize dimensions idx1 and idx2 for 1st dimm of embedding matrix C (27, 10) for all characters in vocab\n",
    "idx1 = 3\n",
    "idx2 = 7\n",
    "plt.figure(figsize=(8,8))\n",
    "plt.scatter(model.C[:,idx1].data, model.C[:,idx2].data, s=200)\n",
    "for i in range(model.C.shape[0]):\n",
    "    plt.text(model.C[i,idx1].item(), model.C[i,idx2].item(), itos[i], ha=\"center\", va=\"center\", color=\"red\")\n",
    "plt.grid('minor')"
   ]
  },
  {
   "cell_type": "code",
   "execution_count": 14,
   "metadata": {},
   "outputs": [
    {
     "name": "stdout",
     "output_type": "stream",
     "text": [
      "wylquline.\n",
      "thencie.\n",
      "daurinvel.\n",
      "coke.\n",
      "syl.\n",
      "raw.\n",
      "edpestavy.\n",
      "raiya.\n",
      "delynn.\n",
      "williesy.\n",
      "tazsa.\n",
      "ivand.\n",
      "jaleighael.\n",
      "olett.\n",
      "eshanyreajase.\n",
      "xainnleen.\n",
      "shakiyannis.\n",
      "wrysse.\n",
      "nia.\n",
      "fresmarciaelixany.\n"
     ]
    }
   ],
   "source": [
    "model.generate()"
   ]
  },
  {
   "cell_type": "code",
   "execution_count": null,
   "metadata": {},
   "outputs": [],
   "source": []
  }
 ],
 "metadata": {
  "kernelspec": {
   "display_name": "d2l",
   "language": "python",
   "name": "python3"
  },
  "language_info": {
   "codemirror_mode": {
    "name": "ipython",
    "version": 3
   },
   "file_extension": ".py",
   "mimetype": "text/x-python",
   "name": "python",
   "nbconvert_exporter": "python",
   "pygments_lexer": "ipython3",
   "version": "3.10.9"
  },
  "orig_nbformat": 4,
  "vscode": {
   "interpreter": {
    "hash": "650d45afb2272f208ff010f0814ed9bc1365e9ffa821d8971ee550879f1654ad"
   }
  }
 },
 "nbformat": 4,
 "nbformat_minor": 2
}
